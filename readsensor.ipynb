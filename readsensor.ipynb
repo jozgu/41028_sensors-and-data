{
 "cells": [
  {
   "cell_type": "code",
   "execution_count": 326,
   "metadata": {},
   "outputs": [],
   "source": [
    "import numpy as np\n",
    "import datetime\n",
    "import serial\n",
    "import pandas as pd\n",
    "import csv"
   ]
  },
  {
   "cell_type": "code",
   "execution_count": 367,
   "metadata": {},
   "outputs": [],
   "source": [
    "sensor = serial.Serial('/dev/cu.usbmodem12401',9600)\n",
    "# 'COM5' is the port name that the Arduino is connected.\n",
    "# '9600' is the Baudrate. \n",
    "\n",
    "columns = [\"accelerometer_x\",\"accelerometer_y\",\"accelerometer_z\",\"temp\",\"gyro_x\",\"gyro_y\",\"gyro_z\",\"distance\", \"pitch\", \"roll\"]\n",
    "\n",
    "data = pd.DataFrame(columns=columns)\n",
    "\n",
    "\n",
    "while len(data)<25:\n",
    "\n",
    "    signal = sensor.readline()\n",
    "    signal = signal.decode('utf-8')\n",
    "    signal = signal.strip()\n",
    "    proc_signal = signal.split(\",\")\n",
    "    proc_signal = [eval(i) for i in proc_signal]\n",
    "    \n",
    "    if len(proc_signal) != 8:\n",
    "        print(\"error in signal\")\n",
    "        print(proc_signal)\n",
    "        break \n",
    "\n",
    "    pitch = 180 * np.arctan(proc_signal[0]/np.sqrt(proc_signal[1]*proc_signal[1] + proc_signal[2]*proc_signal[2]))/np.pi\n",
    "    roll = 180 * np.arctan(proc_signal[1]/np.sqrt(proc_signal[0]*proc_signal[0] + proc_signal[2]*proc_signal[2]))/np.pi\n",
    "\n",
    "    proc_signal.append(pitch)\n",
    "\n",
    "    proc_signal.append(roll)\n",
    "\n",
    "\n",
    "    temp = pd.DataFrame([proc_signal],columns=columns)\n",
    "    data = pd.concat([data,temp], ignore_index=True)\n",
    "    data.to_csv('sensordata_gyro_movement.csv', index=False)\n"
   ]
  },
  {
   "cell_type": "code",
   "execution_count": 368,
   "metadata": {},
   "outputs": [
    {
     "name": "stdout",
     "output_type": "stream",
     "text": [
      "   accelerometer_x accelerometer_y accelerometer_z   temp gyro_x  gyro_y  \\\n",
      "0             -256            -512           15360  25.57   -255      13   \n",
      "1             -256            -512           15104  25.42   -255      30   \n",
      "2             -512           -1536           15360  25.47  -1280    -271   \n",
      "3             -512           -1280           15360  25.47   1281     287   \n",
      "4                0           -1280           17408  25.52   1281   -8300   \n",
      "5            11520            -768           11520  25.42    257   -8621   \n",
      "6            10496            -768            9728  25.52  -1279   14609   \n",
      "7             2560           -1024           14336  25.42  -1024    4486   \n",
      "8              768            -768           17408  25.52    513    4247   \n",
      "9            -7936            -512           13056  25.42    256    7208   \n",
      "10          -11776            -768            9472  25.47    512   -2395   \n",
      "11           -5888            -256           15104  25.57   -256   -7357   \n",
      "12           -2560            -768           16640  25.47  -2559    1211   \n",
      "13            -256           -4096           13056  25.52  -6144     584   \n",
      "14            -256          -10240           12544  25.57  -1536    1073   \n",
      "15           -2304           -9984           13824  25.47   6656     574   \n",
      "16            -512           -3584           15360  25.42   7168    1409   \n",
      "17               0            4352           13568  25.47   7168   -1032   \n",
      "18            -768            7424           16640  25.57   -255     729   \n",
      "19             512            3584           25856  25.42  -9471    -177   \n",
      "20            -512           -1280           15616  25.42    256    3188   \n",
      "21           -2048           -1024           17664  25.42      1     822   \n",
      "22            3584           -1024           13056  25.38    512  -10527   \n",
      "23           10240            -512           15104  25.38  -2048   13653   \n",
      "24           -2048           -1280           15360  25.38    512   -1673   \n",
      "\n",
      "   gyro_z distance      pitch       roll  \n",
      "0     153       17  -0.954311  -1.908888  \n",
      "1     122        4  -0.970465  -1.941208  \n",
      "2    2976       16  -1.899685  -5.707444  \n",
      "3     142       19  -1.902563  -4.761010  \n",
      "4     710     1183   0.000000  -4.205357  \n",
      "5     295       44  44.936479  -2.698951  \n",
      "6    1152       46  47.085991  -3.071867  \n",
      "7     230     1183  10.099472  -4.022204  \n",
      "8     457       20   2.523665  -2.523665  \n",
      "9     574       16 -31.273503  -1.919301  \n",
      "10    544       19 -51.096906  -2.909170  \n",
      "11    -90       16 -21.294570  -0.904720  \n",
      "12     43       17  -8.737005  -2.611860  \n",
      "13    261       18  -1.071808 -17.414826  \n",
      "14   1191       19  -0.905737 -39.219830  \n",
      "15    500       21  -7.694818 -35.465905  \n",
      "16    395       78  -1.859247 -13.126984  \n",
      "17    222       19   0.000000  17.783888  \n",
      "18    -44       19  -2.413539  24.021549  \n",
      "19    506       18   1.123681   7.890175  \n",
      "20     18       19  -1.871605  -4.683394  \n",
      "21    725     1183  -6.602474  -3.295753  \n",
      "22    210       47  15.305347  -4.325241  \n",
      "23   -986       44  34.120660  -1.607178  \n",
      "24      2     1183  -7.568714  -4.722044  \n"
     ]
    }
   ],
   "source": [
    "print(data)"
   ]
  },
  {
   "cell_type": "code",
   "execution_count": null,
   "metadata": {},
   "outputs": [],
   "source": [
    "sensor = serial.Serial('/dev/cu.usbmodem12401',9600)\n",
    "signal = sensor.readline()\n",
    "signal = signal.decode('utf-8')\n",
    "signal = signal.strip()\n",
    "proc_signal = signal.split(\",\")\n",
    "proc_signal = [eval(i) for i in proc_signal]\n",
    "\n",
    "print(len(proc_signal))\n",
    "\n",
    "print(proc_signal)\n",
    "\n"
   ]
  }
 ],
 "metadata": {
  "kernelspec": {
   "display_name": "base",
   "language": "python",
   "name": "python3"
  },
  "language_info": {
   "codemirror_mode": {
    "name": "ipython",
    "version": 3
   },
   "file_extension": ".py",
   "mimetype": "text/x-python",
   "name": "python",
   "nbconvert_exporter": "python",
   "pygments_lexer": "ipython3",
   "version": "3.9.13"
  },
  "orig_nbformat": 4
 },
 "nbformat": 4,
 "nbformat_minor": 2
}
